{
  "nbformat": 4,
  "nbformat_minor": 0,
  "metadata": {
    "colab": {
      "provenance": [],
      "authorship_tag": "ABX9TyMK+1+2xd5da2eizUeLrD05",
      "include_colab_link": true
    },
    "kernelspec": {
      "name": "python3",
      "display_name": "Python 3"
    },
    "language_info": {
      "name": "python"
    }
  },
  "cells": [
    {
      "cell_type": "markdown",
      "metadata": {
        "id": "view-in-github",
        "colab_type": "text"
      },
      "source": [
        "<a href=\"https://colab.research.google.com/github/lucianosilvasp/qbitcoin/blob/main/mining.ipynb\" target=\"_parent\"><img src=\"https://colab.research.google.com/assets/colab-badge.svg\" alt=\"Open In Colab\"/></a>"
      ]
    },
    {
      "cell_type": "markdown",
      "source": [
        "**CRYPTOCURRENCY MINING**"
      ],
      "metadata": {
        "id": "GsVALP5vSXpK"
      }
    },
    {
      "cell_type": "code",
      "source": [
        "!pip install qiskit-aer"
      ],
      "metadata": {
        "id": "alz0Jf-YRXj-"
      },
      "execution_count": null,
      "outputs": []
    },
    {
      "cell_type": "code",
      "source": [
        "!pip install qiskit==0.46.1"
      ],
      "metadata": {
        "id": "jCmB87c6F1HF"
      },
      "execution_count": null,
      "outputs": []
    },
    {
      "cell_type": "markdown",
      "source": [
        "**GROVER SEARCH WITH PROOF of WORK (PoW)**\n",
        "\n",
        "Proof of work (PoW) describes a consensus mechanism that requires a significant amount of computing effort from a network of devices.\n",
        "\n",
        "**KEY TAKEAWAYS**\n",
        "* Proof of work (PoW) is a decentralized consensus mechanism that requires network members to expend effort in solving an encrypted hexadecimal number.\n",
        "* Proof of work is also called **mining**, in reference to **receiving a reward** for work done.\n",
        "* Proof of work allows for secure peer-to-peer transaction processing without needing a trusted third party.\n",
        "* Proof of work at scale requires vast amounts of energy, which only increases as more miners join the network.\n",
        "\n",
        "The concept was adapted digital tokens by Hal Finney in 2004 through the idea of \"reusable proof of work\" using the 160-bit secure hash algorithm 1 (SHA-1). Following its introduction in 2009, Bitcoin became the first widely adopted application of Finney's PoW idea (Finney was also the recipient of the first bitcoin transaction).\n",
        "\n",
        "Commonly called a cryptocurrency, Bitcoin is technically a token—a representation of ownership of value on the Bitcoin blockchain. The ownership of the token can be exchanged for something of equal value, much like how you hand someone a dollar for a candy bar—they now have the dollar and you have the candy bar.\n",
        "\n",
        "Blockchains are distributed ledgers that record all bitcoin transactions, similarly to how you would enter transactions in a spreadsheet. Each block is similar to a cell. Information such as transaction amounts, wallet addresses, time, and date are recorded and encrypted into a block header—a hexadecimal number created through the blockchain's **hashing function**.\n",
        "\n",
        "The hash from each block is used in the block that follows it when its hash is created. This creates a ledger of chained blocks that cannot be altered because the information from every block is included in the newest block's hash.\n",
        "\n",
        "**When a block is closed, the hash must be verified before a new block can be opened. This is where proof of work comes in.** The hash is a 64-digit encrypted hexadecimal number. With modern technology, a hash can be generated in milliseconds for a large amount of data. However, miners try to guess that hash, which takes a very long time in computing terms.\n",
        "\n",
        "The hash includes a series of numbers called the nonce, short for \"number used once.\" When a miner—the program on a node that works to solve the hash—begins mining, it generates a hash from publicly available information using a nonce equal to zero.\n",
        "\n",
        "If the hash is lower than the current network target (or **accuracy**), the miner has successfully solved the hash. The network target is a mathematical result of a formula converted to a hexadecimal number that dictates the mining difficulty.\n",
        "\n",
        "If the hash is greater than the target, the mining program adds a value of 1 to the nonce and generates a hash again. The entire network of miners tries to solve the hash this way.\n",
        "\n",
        "On the Bitcoin blockchain, the miner that solves the hash is given the current reward for the work done."
      ],
      "metadata": {
        "id": "MMSsrtYHTZoB"
      }
    },
    {
      "cell_type": "code",
      "execution_count": 14,
      "metadata": {
        "id": "AMoX6jKQFSTk"
      },
      "outputs": [],
      "source": [
        "from qiskit import *\n",
        "#provider = IBMQ.enable_account('YOUR API KEY HERE')\n",
        "#backend = provider.get_backend('ibm_oslo')\n",
        "\n",
        "def applyHadamard(qc, qubits):\n",
        "    for q in qubits:\n",
        "        qc.h(q)\n",
        "\n",
        "    return qc\n",
        "\n",
        "def createBooleanOracle(input):\n",
        "    oracle_circuit = QuantumCircuit(4,name=\"boolean oracle\")\n",
        "    for x in range(3):\n",
        "        if input[x] == '0':\n",
        "            oracle_circuit.x(x)\n",
        "\n",
        "    oracle_circuit.mct([0,1,2], 3)\n",
        "\n",
        "    for x in range(3):\n",
        "        if input[x] == '0':\n",
        "            oracle_circuit.x(x)\n",
        "\n",
        "    return oracle_circuit.to_gate()\n",
        "\n",
        "def createPhaseOracle(input):\n",
        "    oracle_circuit = QuantumCircuit(3,name=\"phase oracle\")\n",
        "    for x in range(3):\n",
        "        if input[x] == '0':\n",
        "            oracle_circuit.x(x)\n",
        "\n",
        "    oracle_circuit.ccz(0,1,2)\n",
        "\n",
        "    for x in range(3):\n",
        "        if input[x] == '0':\n",
        "            oracle_circuit.x(x)\n",
        "\n",
        "    return oracle_circuit.to_gate()\n",
        "\n",
        "def amplificationGate():\n",
        "    ampGate = QuantumCircuit(3,name=\"amplification gate\")\n",
        "    for x in range(3):\n",
        "        ampGate.x(x)\n",
        "\n",
        "    ampGate.ccz(0,1,2)\n",
        "\n",
        "    for x in range(3):\n",
        "        ampGate.x(x)\n",
        "\n",
        "    for x in range(3):\n",
        "        ampGate.h(x)\n",
        "\n",
        "    return ampGate.to_gate()\n",
        "\n",
        "def runSimulator(grover_circuit): # >70% accuracy  mine until 78% accuracy??????\n",
        "    backend = Aer.get_backend('qasm_simulator')\n",
        "    job = execute(grover_circuit, backend, shots=8192)\n",
        "    result = job.result()\n",
        "    counts = result.get_counts()\n",
        "    return counts\n",
        "\n",
        "def runReal(grover_circuit): # <50% accuracy\n",
        "    job = execute(grover_circuit, backend, shots=8192)\n",
        "    result = job.result()\n",
        "    counts = result.get_counts()\n",
        "    return counts\n",
        "\n",
        "def mine(input, type_choice):\n",
        "    grover_circuit = QuantumCircuit(4,3)\n",
        "    grover_circuit.initialize('0000', grover_circuit.qubits)\n",
        "\n",
        "    grover_circuit = applyHadamard(grover_circuit, [0,1,2,3])\n",
        "    #grover_circuit.append(createBooleanOracle(input), [0,1,2,3])\n",
        "    grover_circuit.append(createPhaseOracle(input), [0,1,2])\n",
        "    grover_circuit = applyHadamard(grover_circuit, [0,1,2,3])\n",
        "    grover_circuit.append(amplificationGate(), [0,1,2])\n",
        "    grover_circuit.measure([0,1,2], [0,1,2])\n",
        "\n",
        "    if type_choice == \"1\":\n",
        "        counts = runSimulator(grover_circuit)\n",
        "    if type_choice == \"2\":\n",
        "        counts = runReal(grover_circuit)\n",
        "\n",
        "    searchFor = input[::-1]\n",
        "    accuracy = (counts[searchFor] / 8192) * 100\n",
        "    return accuracy"
      ]
    },
    {
      "cell_type": "markdown",
      "source": [
        "The two most popular consensus mechanisms are proof of work and proof of stake. Bitcoin's top competitor Ethereum used proof of work on its blockchain until September 2022, when the highly-anticipated transition to proof of stake was made. Here are some of the key differences between the two.\n",
        "\n",
        "**Proof of Work**\n",
        "\n",
        "* Validation is done by a network of miners\n",
        "* Bitcoin paid as a reward and for transaction fees\n",
        "* Competitive nature uses lots of energy and computational power\n",
        "\n",
        "**Proof of Stake**\n",
        "* Validation is done by participants who offer ether as collateral\n",
        "* Ether is paid for transaction fees only\n",
        "* Less computational power and energy used\n",
        "\n",
        "Proof of work **requires a computer to randomly engage** in hashing functions until it arrives at an output with the correct minimum amount of leading zeroes. For example, the hash for block #775,771, mined on Feb. 9, 2023, is:\n",
        "\n",
        "00000000000000000003aa2696b1b7248db53a5a7f72d1fd98916c761e954354\n",
        "\n",
        "There were 1,519 transactions in the block, and the total value of the block was 1,665.9645 BTC. This block was hashed by a miner 2.8 billion times (2.881.347.934) before reaching a number less than the target.\n",
        "\n",
        "**The block reward for that successful hash was 6.25 BTC and 0.1360 BTC in fees. **"
      ],
      "metadata": {
        "id": "wUPHE8T2V3Yx"
      }
    },
    {
      "cell_type": "markdown",
      "source": [
        "**BLOCKCHAIN SUPPORT AND HOW TO USE THE PROGRAM**"
      ],
      "metadata": {
        "id": "6bI9ZGDHXn6R"
      }
    },
    {
      "cell_type": "code",
      "source": [
        "import time\n",
        "from hashlib import sha256\n",
        "\n",
        "class Block:\n",
        "    blockHash = ''\n",
        "    nonce = ''\n",
        "    accuracy = 0\n",
        "\n",
        "    def __init__(self, senderAddr, recieverAddr, amount, previousBlockHash, blockNumber):\n",
        "        self.senderAddr = senderAddr\n",
        "        self.recieverAddr = recieverAddr\n",
        "        self.amount = amount\n",
        "        self.previousBlockHash = previousBlockHash\n",
        "        self.blockNumber = blockNumber\n",
        "        self.timestamp = time.time()\n",
        "\n",
        "        prevBlockHashBinary = ''.join(format(ord(i), '08b') for i in previousBlockHash)\n",
        "        self.nonce = prevBlockHashBinary[-3:]\n",
        "        counter = 0\n",
        "        avgaccuracy = 0\n",
        "        while(self.accuracy < chosen_accuracy):\n",
        "            counter = counter + 1\n",
        "            self.accuracy = mine(self.nonce, type_choice)\n",
        "            avgaccuracy = avgaccuracy + self.accuracy\n",
        "        print(\"Final Accuracy: \", self.accuracy)\n",
        "        print(\"Iterations = \", counter)\n",
        "        avgaccuracy = avgaccuracy / counter\n",
        "        print(\"Average Accuracy = \", avgaccuracy)\n",
        "\n",
        "        self.blockHash = previousBlockHash + senderAddr + recieverAddr + amount + str(self.timestamp) + str(self.nonce) + str(self.accuracy)\n",
        "        self.blockHash = sha256(self.blockHash.encode('utf-8')).hexdigest()\n",
        "\n",
        "\n",
        "\n",
        "class Blockchain:\n",
        "    blockchain = []\n",
        "    def __init__(self):\n",
        "        if len(self.blockchain) < 1:\n",
        "            genBlock = Block('Genesis', 'Genesis', '0', '0', 1)\n",
        "            self.blockchain.append(genBlock)\n",
        "\n",
        "    def addBlock(self, additionalBlock):\n",
        "        self.blockchain.append(additionalBlock)\n",
        "\n",
        "    def printChain(self):\n",
        "        print('Block : Blockhash                                                         : Reciever : Sender : Amount : Accuracy')\n",
        "        for x in range(len(self.blockchain)):\n",
        "            print(self.blockchain[x].blockNumber, self.blockchain[x].blockHash, ' : ', self.blockchain[x].recieverAddr, ' : ', self.blockchain[x].senderAddr, ' : ', self.blockchain[x].amount, ' : ',self.blockchain[x].accuracy)\n",
        "\n",
        "def userChoice1(blockchain):\n",
        "\n",
        "    print(\"Please input sender address: \")\n",
        "    sendrAddr = input()\n",
        "    print(\"Please input reciever address: \")\n",
        "    recvAddr = input()\n",
        "    print(\"Enter amount: \")\n",
        "    amount = input()\n",
        "\n",
        "    chainLength = len(blockchain.blockchain)\n",
        "    previousBlockNumber = blockchain.blockchain[chainLength - 1].blockNumber\n",
        "    prevBlockHash = blockchain.blockchain[chainLength - 1].blockHash\n",
        "\n",
        "    currentBlock = Block(sendrAddr, recvAddr, amount, prevBlockHash, previousBlockNumber + 1)\n",
        "    blockchain.addBlock(currentBlock)\n",
        "\n",
        "def main():\n",
        "    global sim_accuracy\n",
        "    sim_accuracy = 78.8\n",
        "    global quantum_accuracy\n",
        "    quantum_accuracy = 45.5\n",
        "    global type_choice\n",
        "\n",
        "    print(\"Please choose (1) simulator or (2) real quantum version: \")\n",
        "    type_choice = input()\n",
        "    match type_choice:\n",
        "        case \"1\":\n",
        "            global chosen_accuracy\n",
        "            chosen_accuracy = sim_accuracy\n",
        "        case \"2\":\n",
        "            chosen_accuracy = quantum_accuracy\n",
        "\n",
        "    blockchain = Blockchain()\n",
        "\n",
        "    while(1):\n",
        "        print(\"Choose option: \")\n",
        "        print(\"1. Add new block to chain.\")\n",
        "        print(\"2. Display blocks on current blockchain.\")\n",
        "        choice = input()\n",
        "\n",
        "        match choice:\n",
        "            case \"1\":\n",
        "                userChoice1(blockchain)\n",
        "            case \"2\":\n",
        "                blockchain.printChain()\n",
        "            case _:\n",
        "                print(\"Invalid choice\")"
      ],
      "metadata": {
        "id": "0iOnn1z-FdbQ"
      },
      "execution_count": 15,
      "outputs": []
    },
    {
      "cell_type": "code",
      "source": [
        "main()"
      ],
      "metadata": {
        "id": "8MMYNctjRLac"
      },
      "execution_count": null,
      "outputs": []
    }
  ]
}