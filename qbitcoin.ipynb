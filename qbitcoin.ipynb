{
  "nbformat": 4,
  "nbformat_minor": 0,
  "metadata": {
    "colab": {
      "provenance": [],
      "authorship_tag": "ABX9TyOYV1uvl3p6Dcj9PQYuPPyD",
      "include_colab_link": true
    },
    "kernelspec": {
      "name": "python3",
      "display_name": "Python 3"
    },
    "language_info": {
      "name": "python"
    }
  },
  "cells": [
    {
      "cell_type": "markdown",
      "metadata": {
        "id": "view-in-github",
        "colab_type": "text"
      },
      "source": [
        "<a href=\"https://colab.research.google.com/github/lucianosilvasp/qbitcoin/blob/main/qbitcoin.ipynb\" target=\"_parent\"><img src=\"https://colab.research.google.com/assets/colab-badge.svg\" alt=\"Open In Colab\"/></a>"
      ]
    },
    {
      "cell_type": "markdown",
      "source": [
        "#**QUANTUM BITCOIN**"
      ],
      "metadata": {
        "id": "HeTUwTzYYQSQ"
      }
    },
    {
      "cell_type": "code",
      "source": [
        "!git clone https://github.com/lucianosilvasp/qbitcoin"
      ],
      "metadata": {
        "id": "vDsI-gIOZIAb",
        "outputId": "933209a8-bc49-41f4-ec88-7833b6d93f56",
        "colab": {
          "base_uri": "https://localhost:8080/"
        }
      },
      "execution_count": 27,
      "outputs": [
        {
          "output_type": "stream",
          "name": "stdout",
          "text": [
            "Cloning into 'qbitcoin'...\n",
            "remote: Enumerating objects: 52, done.\u001b[K\n",
            "remote: Counting objects: 100% (52/52), done.\u001b[K\n",
            "remote: Compressing objects: 100% (49/49), done.\u001b[K\n",
            "remote: Total 52 (delta 24), reused 0 (delta 0), pack-reused 0\u001b[K\n",
            "Receiving objects: 100% (52/52), 19.64 KiB | 1.64 MiB/s, done.\n",
            "Resolving deltas: 100% (24/24), done.\n"
          ]
        }
      ]
    },
    {
      "cell_type": "code",
      "source": [
        "!pip install qiskit-aer"
      ],
      "metadata": {
        "id": "Bhj1peLbaDlv",
        "outputId": "11333bdc-e258-4691-db75-78c396609c7d",
        "colab": {
          "base_uri": "https://localhost:8080/"
        }
      },
      "execution_count": 28,
      "outputs": [
        {
          "output_type": "stream",
          "name": "stdout",
          "text": [
            "Requirement already satisfied: qiskit-aer in /usr/local/lib/python3.10/dist-packages (0.14.1)\n",
            "Requirement already satisfied: qiskit>=0.45.0 in /usr/local/lib/python3.10/dist-packages (from qiskit-aer) (1.0.2)\n",
            "Requirement already satisfied: numpy>=1.16.3 in /usr/local/lib/python3.10/dist-packages (from qiskit-aer) (1.25.2)\n",
            "Requirement already satisfied: scipy>=1.0 in /usr/local/lib/python3.10/dist-packages (from qiskit-aer) (1.11.4)\n",
            "Requirement already satisfied: psutil>=5 in /usr/local/lib/python3.10/dist-packages (from qiskit-aer) (5.9.5)\n",
            "Requirement already satisfied: rustworkx>=0.14.0 in /usr/local/lib/python3.10/dist-packages (from qiskit>=0.45.0->qiskit-aer) (0.14.2)\n",
            "Requirement already satisfied: sympy>=1.3 in /usr/local/lib/python3.10/dist-packages (from qiskit>=0.45.0->qiskit-aer) (1.12)\n",
            "Requirement already satisfied: dill>=0.3 in /usr/local/lib/python3.10/dist-packages (from qiskit>=0.45.0->qiskit-aer) (0.3.8)\n",
            "Requirement already satisfied: python-dateutil>=2.8.0 in /usr/local/lib/python3.10/dist-packages (from qiskit>=0.45.0->qiskit-aer) (2.8.2)\n",
            "Requirement already satisfied: stevedore>=3.0.0 in /usr/local/lib/python3.10/dist-packages (from qiskit>=0.45.0->qiskit-aer) (5.2.0)\n",
            "Requirement already satisfied: typing-extensions in /usr/local/lib/python3.10/dist-packages (from qiskit>=0.45.0->qiskit-aer) (4.11.0)\n",
            "Requirement already satisfied: symengine>=0.11 in /usr/local/lib/python3.10/dist-packages (from qiskit>=0.45.0->qiskit-aer) (0.11.0)\n",
            "Requirement already satisfied: six>=1.5 in /usr/local/lib/python3.10/dist-packages (from python-dateutil>=2.8.0->qiskit>=0.45.0->qiskit-aer) (1.16.0)\n",
            "Requirement already satisfied: pbr!=2.1.0,>=2.0.0 in /usr/local/lib/python3.10/dist-packages (from stevedore>=3.0.0->qiskit>=0.45.0->qiskit-aer) (6.0.0)\n",
            "Requirement already satisfied: mpmath>=0.19 in /usr/local/lib/python3.10/dist-packages (from sympy>=1.3->qiskit>=0.45.0->qiskit-aer) (1.3.0)\n"
          ]
        }
      ]
    },
    {
      "cell_type": "code",
      "source": [
        "!pip uninstall qiskit"
      ],
      "metadata": {
        "id": "pFjS1O_mLJEW",
        "outputId": "4efab3fb-01d6-4ba3-d0f4-f357ef7a6ec5",
        "colab": {
          "base_uri": "https://localhost:8080/"
        }
      },
      "execution_count": 30,
      "outputs": [
        {
          "output_type": "stream",
          "name": "stdout",
          "text": [
            "Found existing installation: qiskit 1.0.2\n",
            "Uninstalling qiskit-1.0.2:\n",
            "  Would remove:\n",
            "    /usr/local/lib/python3.10/dist-packages/qiskit-1.0.2.dist-info/*\n",
            "    /usr/local/lib/python3.10/dist-packages/qiskit/*\n",
            "Proceed (Y/n)? Y\n",
            "  Successfully uninstalled qiskit-1.0.2\n"
          ]
        }
      ]
    },
    {
      "cell_type": "code",
      "source": [
        "!pip install qiskit==0.46.1"
      ],
      "metadata": {
        "id": "R_mc2t15LRa8",
        "outputId": "02cfbe0e-05b1-4d5a-c567-ef4913aff2e3",
        "colab": {
          "base_uri": "https://localhost:8080/",
          "height": 534
        }
      },
      "execution_count": 31,
      "outputs": [
        {
          "output_type": "stream",
          "name": "stdout",
          "text": [
            "Collecting qiskit==0.46.1\n",
            "  Downloading qiskit-0.46.1-py3-none-any.whl (9.6 kB)\n",
            "Collecting qiskit-terra==0.46.1 (from qiskit==0.46.1)\n",
            "  Downloading qiskit_terra-0.46.1-cp38-abi3-manylinux_2_17_x86_64.manylinux2014_x86_64.whl (6.2 MB)\n",
            "\u001b[2K     \u001b[90m━━━━━━━━━━━━━━━━━━━━━━━━━━━━━━━━━━━━━━━━\u001b[0m \u001b[32m6.2/6.2 MB\u001b[0m \u001b[31m22.0 MB/s\u001b[0m eta \u001b[36m0:00:00\u001b[0m\n",
            "\u001b[?25hRequirement already satisfied: rustworkx>=0.13.0 in /usr/local/lib/python3.10/dist-packages (from qiskit-terra==0.46.1->qiskit==0.46.1) (0.14.2)\n",
            "Requirement already satisfied: numpy<2,>=1.17 in /usr/local/lib/python3.10/dist-packages (from qiskit-terra==0.46.1->qiskit==0.46.1) (1.25.2)\n",
            "Collecting ply>=3.10 (from qiskit-terra==0.46.1->qiskit==0.46.1)\n",
            "  Downloading ply-3.11-py2.py3-none-any.whl (49 kB)\n",
            "\u001b[2K     \u001b[90m━━━━━━━━━━━━━━━━━━━━━━━━━━━━━━━━━━━━━━━━\u001b[0m \u001b[32m49.6/49.6 kB\u001b[0m \u001b[31m5.2 MB/s\u001b[0m eta \u001b[36m0:00:00\u001b[0m\n",
            "\u001b[?25hRequirement already satisfied: psutil>=5 in /usr/local/lib/python3.10/dist-packages (from qiskit-terra==0.46.1->qiskit==0.46.1) (5.9.5)\n",
            "Requirement already satisfied: scipy>=1.5 in /usr/local/lib/python3.10/dist-packages (from qiskit-terra==0.46.1->qiskit==0.46.1) (1.11.4)\n",
            "Requirement already satisfied: sympy>=1.3 in /usr/local/lib/python3.10/dist-packages (from qiskit-terra==0.46.1->qiskit==0.46.1) (1.12)\n",
            "Requirement already satisfied: dill>=0.3 in /usr/local/lib/python3.10/dist-packages (from qiskit-terra==0.46.1->qiskit==0.46.1) (0.3.8)\n",
            "Requirement already satisfied: python-dateutil>=2.8.0 in /usr/local/lib/python3.10/dist-packages (from qiskit-terra==0.46.1->qiskit==0.46.1) (2.8.2)\n",
            "Requirement already satisfied: stevedore>=3.0.0 in /usr/local/lib/python3.10/dist-packages (from qiskit-terra==0.46.1->qiskit==0.46.1) (5.2.0)\n",
            "Requirement already satisfied: symengine>=0.11 in /usr/local/lib/python3.10/dist-packages (from qiskit-terra==0.46.1->qiskit==0.46.1) (0.11.0)\n",
            "Requirement already satisfied: typing-extensions in /usr/local/lib/python3.10/dist-packages (from qiskit-terra==0.46.1->qiskit==0.46.1) (4.11.0)\n",
            "Requirement already satisfied: six>=1.5 in /usr/local/lib/python3.10/dist-packages (from python-dateutil>=2.8.0->qiskit-terra==0.46.1->qiskit==0.46.1) (1.16.0)\n",
            "Requirement already satisfied: pbr!=2.1.0,>=2.0.0 in /usr/local/lib/python3.10/dist-packages (from stevedore>=3.0.0->qiskit-terra==0.46.1->qiskit==0.46.1) (6.0.0)\n",
            "Requirement already satisfied: mpmath>=0.19 in /usr/local/lib/python3.10/dist-packages (from sympy>=1.3->qiskit-terra==0.46.1->qiskit==0.46.1) (1.3.0)\n",
            "Installing collected packages: ply, qiskit-terra, qiskit\n",
            "Successfully installed ply-3.11 qiskit-0.46.1 qiskit-terra-0.46.1\n"
          ]
        },
        {
          "output_type": "display_data",
          "data": {
            "application/vnd.colab-display-data+json": {
              "pip_warning": {
                "packages": [
                  "qiskit"
                ]
              },
              "id": "526600e963f14e9fad12b0b3555f5d51"
            }
          },
          "metadata": {}
        }
      ]
    },
    {
      "cell_type": "code",
      "source": [
        "from blockchain import Blockchain\n",
        "from wallet import Wallet\n",
        "\n",
        "my_blockchain = Blockchain()\n",
        "\n",
        "# Create two wallets\n",
        "wallet1 = Wallet()\n",
        "wallet2 = Wallet()\n",
        "\n",
        "# Check if addresses are different\n",
        "if wallet1.address == wallet2.address:\n",
        "  print(\"Error: Duplicate addresses generated.\")\n",
        "else:\n",
        "  print(\"Unique addresses confirmed.\")\n",
        "\n",
        "# Display wallet addresses\n",
        "print(f\"Wallet 1 Address: {wallet1.address}\")\n",
        "print(f\"Wallet 2 Address: {wallet2.address}\")\n",
        "\n",
        "# Wallet 1 sends money to Wallet 2\n",
        "wallet1.send_money(wallet2.address, 50, my_blockchain)\n",
        "\n",
        "# Mine pending transactions\n",
        "my_blockchain.mine_unconfirmed_transactions()\n",
        "\n",
        "# Check if the blockchain is valid\n",
        "print(f\"Is Blockchain valid? {my_blockchain.is_chain_valid()}\")\n",
        "\n",
        "# Display the blockchain\n",
        "for block in my_blockchain.chain:\n",
        "  print(f\"Block {block.index}:\")\n",
        "  for transaction in block.transactions:\n",
        "    print(f\"    Sender: {transaction.sender}\")\n",
        "    print(f\"    Receiver: {transaction.receiver}\")\n",
        "    print(f\"    Amount: {transaction.amount}\")\n",
        "    print(f\"    Hash: {block.hash}\")"
      ],
      "metadata": {
        "id": "rrtCZ8K1Yd3k",
        "outputId": "a5c367e6-1045-42d8-eeef-2d9922f0b575",
        "colab": {
          "base_uri": "https://localhost:8080/"
        }
      },
      "execution_count": 2,
      "outputs": [
        {
          "output_type": "stream",
          "name": "stdout",
          "text": [
            "Unique addresses confirmed.\n",
            "Wallet 1 Address: bc1KFoqhIBiwuZnxlH1ReFrblXLkBwKYz\n",
            "Wallet 2 Address: bc1wvL0g4UfNGPDpyR6OqBjhDyBGU6u5Ky\n",
            "Is Blockchain valid? True\n",
            "Block 0:\n",
            "Block 1:\n",
            "    Sender: bc1KFoqhIBiwuZnxlH1ReFrblXLkBwKYz\n",
            "    Receiver: bc1wvL0g4UfNGPDpyR6OqBjhDyBGU6u5Ky\n",
            "    Amount: 50\n",
            "    Hash: 0000c3d545dd0bc95c5f3befc02b7924c3bfc96fbafc13a23657101b0be1598e\n"
          ]
        }
      ]
    }
  ]
}